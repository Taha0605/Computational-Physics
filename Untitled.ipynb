{
 "cells": [
  {
   "cell_type": "code",
   "execution_count": 11,
   "id": "7d0a2585",
   "metadata": {},
   "outputs": [],
   "source": [
    "tolerance = 0.00001 ## this means 20%\n",
    "error = 9999"
   ]
  },
  {
   "cell_type": "code",
   "execution_count": 12,
   "id": "aca22694",
   "metadata": {},
   "outputs": [],
   "source": [
    "def f(x):\n",
    "    y = x**3-0.165*(x**2) + 3.993*(10**-4)\n",
    "    \n",
    "    return y"
   ]
  },
  {
   "cell_type": "code",
   "execution_count": 13,
   "id": "fa4b3da7",
   "metadata": {},
   "outputs": [],
   "source": [
    "def f_derived(x):\n",
    "    y = 3*x**2 - 0.33*x\n",
    "    \n",
    "    return y"
   ]
  },
  {
   "cell_type": "code",
   "execution_count": 14,
   "id": "5e8d8be1",
   "metadata": {},
   "outputs": [],
   "source": [
    "def err_calc(x1, x):\n",
    "    error = abs(x1-x)/x\n",
    "    return error"
   ]
  },
  {
   "cell_type": "code",
   "execution_count": 16,
   "id": "0331fbf3",
   "metadata": {},
   "outputs": [
    {
     "name": "stdout",
     "output_type": "stream",
     "text": [
      "Enter your initial guess0.05\n"
     ]
    }
   ],
   "source": [
    "x_i = float(input(\"Enter your initial guess\"))\n",
    "x_i1 = 0\n",
    "iterations = 0\n",
    "\n",
    "while(error > tolerance):\n",
    "    x_i1 = x_i - f(x_i)/f_derived(x_i)\n",
    "    error = err_calc(x_i1, x_i)\n",
    "    x_i = x_i1\n",
    "    iterations+=1"
   ]
  },
  {
   "cell_type": "code",
   "execution_count": 17,
   "id": "ed4d8209",
   "metadata": {},
   "outputs": [
    {
     "name": "stdout",
     "output_type": "stream",
     "text": [
      "0.06237758151374945\n"
     ]
    }
   ],
   "source": [
    "print(x_i1)"
   ]
  },
  {
   "cell_type": "code",
   "execution_count": 18,
   "id": "5a6282ed",
   "metadata": {},
   "outputs": [
    {
     "name": "stdout",
     "output_type": "stream",
     "text": [
      "3\n"
     ]
    }
   ],
   "source": [
    "print(iterations)"
   ]
  },
  {
   "cell_type": "code",
   "execution_count": 19,
   "id": "f4c0ff02",
   "metadata": {},
   "outputs": [
    {
     "name": "stdout",
     "output_type": "stream",
     "text": [
      "5.421010862427522e-19\n"
     ]
    }
   ],
   "source": [
    "print(f(x_i1))"
   ]
  },
  {
   "cell_type": "code",
   "execution_count": null,
   "id": "71bc92e9",
   "metadata": {},
   "outputs": [],
   "source": [
    "\n"
   ]
  }
 ],
 "metadata": {
  "kernelspec": {
   "display_name": "Python 3 (ipykernel)",
   "language": "python",
   "name": "python3"
  },
  "language_info": {
   "codemirror_mode": {
    "name": "ipython",
    "version": 3
   },
   "file_extension": ".py",
   "mimetype": "text/x-python",
   "name": "python",
   "nbconvert_exporter": "python",
   "pygments_lexer": "ipython3",
   "version": "3.8.13"
  }
 },
 "nbformat": 4,
 "nbformat_minor": 5
}
