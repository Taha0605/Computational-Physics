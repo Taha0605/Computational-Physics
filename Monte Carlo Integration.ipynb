{
 "cells": [
  {
   "cell_type": "markdown",
   "id": "3e2dfccb",
   "metadata": {},
   "source": [
    "## Hit or Miss Method\n",
    "\n",
    "Find the maximum value of the funnction in the bounds, make a greater function than the given function and calculate the ratio of the points in both the areas to calculate the area under the curve with respect to the area of the greater function."
   ]
  },
  {
   "cell_type": "code",
   "execution_count": null,
   "id": "4be9261a",
   "metadata": {},
   "outputs": [],
   "source": [
    "import math\n",
    "import random"
   ]
  },
  {
   "cell_type": "code",
   "execution_count": null,
   "id": "3b1ad5a8",
   "metadata": {},
   "outputs": [],
   "source": [
    "def f(x):\n",
    "    y = math.exp(x)\n",
    "    return y"
   ]
  },
  {
   "cell_type": "code",
   "execution_count": null,
   "id": "faab327e",
   "metadata": {},
   "outputs": [],
   "source": [
    "x_bounds = [0, 1]\n",
    "## Find the maximum value, here it is e\n",
    "y_bounds = [0, math.exp(1)]\n",
    "N = 50 # Number of points for monte carlo\n",
    "\n",
    "ns = 0 # Count for points under curve\n",
    "\n",
    "i = 0\n",
    "for i in range(N):\n",
    "    x_rand = random.uniform(x_bounds[0], x_bounds[1])\n",
    "    y_rand = random.uniform(y_bounds[0], y_bounds[1])\n",
    "    \n",
    "    if y_rand < math.exp(x_rand):\n",
    "        ns+=1\n",
    "        \n",
    "ans = (x_bounds[1]-x_bounds[0])*math.exp(1)*(ns/float(N))\n",
    "\n",
    "print(ans)"
   ]
  },
  {
   "cell_type": "markdown",
   "id": "3de66b88",
   "metadata": {},
   "source": [
    "## Mean Value Theorem\n",
    "\n",
    "Choose random points for x and calcculate the average value of the function at those points. Similar to quadratures"
   ]
  },
  {
   "cell_type": "code",
   "execution_count": null,
   "id": "af42b022",
   "metadata": {},
   "outputs": [],
   "source": [
    "N = 50\n",
    "s = 0\n",
    "\n",
    "for i in range(N):\n",
    "    s = s + f(random.uniform(x_bounds[0], x_bounds[1]))\n",
    "\n",
    "fmean = s/float(N)\n",
    "\n",
    "ans = (x_bounds[1]-x_bounds[0])*fmean\n",
    "\n",
    "print(ans)"
   ]
  }
 ],
 "metadata": {
  "kernelspec": {
   "display_name": "Python 3 (ipykernel)",
   "language": "python",
   "name": "python3"
  },
  "language_info": {
   "codemirror_mode": {
    "name": "ipython",
    "version": 3
   },
   "file_extension": ".py",
   "mimetype": "text/x-python",
   "name": "python",
   "nbconvert_exporter": "python",
   "pygments_lexer": "ipython3",
   "version": "3.8.13"
  }
 },
 "nbformat": 4,
 "nbformat_minor": 5
}
