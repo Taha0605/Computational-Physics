{
 "cells": [
  {
   "cell_type": "markdown",
   "id": "eb691be0",
   "metadata": {},
   "source": [
    "## Integration Techniques\n",
    "\n",
    "We will try 3 different methods here:\n",
    "1. Trapezoidal Rule\n",
    "2. Gaussian\n",
    "3. Monte-Carlo"
   ]
  },
  {
   "cell_type": "code",
   "execution_count": null,
   "id": "8726538f",
   "metadata": {},
   "outputs": [],
   "source": []
  }
 ],
 "metadata": {
  "kernelspec": {
   "display_name": "Python [conda env:root] *",
   "language": "python",
   "name": "conda-root-py"
  },
  "language_info": {
   "codemirror_mode": {
    "name": "ipython",
    "version": 3
   },
   "file_extension": ".py",
   "mimetype": "text/x-python",
   "name": "python",
   "nbconvert_exporter": "python",
   "pygments_lexer": "ipython3",
   "version": "3.8.13"
  }
 },
 "nbformat": 4,
 "nbformat_minor": 5
}
