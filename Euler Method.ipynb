{
 "cells": [
  {
   "cell_type": "markdown",
   "id": "79cbd448",
   "metadata": {},
   "source": [
    "## Euler Method ##\n",
    "\n",
    "Simple Taylor Series Approximation to give the formula <br>\n",
    "y(x+h) = y+h*f(x, y)"
   ]
  },
  {
   "cell_type": "code",
   "execution_count": 1,
   "id": "7319ceee",
   "metadata": {},
   "outputs": [],
   "source": [
    "def f(x, y):\n",
    "    value = 2*x*y\n",
    "    return value"
   ]
  },
  {
   "cell_type": "code",
   "execution_count": 2,
   "id": "0b2e5c73",
   "metadata": {
    "scrolled": true
   },
   "outputs": [
    {
     "name": "stdout",
     "output_type": "stream",
     "text": [
      "0.2673791680495414\n"
     ]
    }
   ],
   "source": [
    "h = 0.01 # Step Size\n",
    "\n",
    "# initializing the variables according to the boundary value\n",
    "x = 0\n",
    "y = 0.1\n",
    "y_next = 0\n",
    "# We want to find y for when x = 1\n",
    "\n",
    "while (x<1):\n",
    "    y_next = y + h*f(x, y)\n",
    "    x = x + h\n",
    "    y = y_next\n",
    "print(y_next)"
   ]
  },
  {
   "cell_type": "markdown",
   "id": "bb624b12",
   "metadata": {},
   "source": [
    "## Modified Euler Method##\n",
    "\n",
    "Derivative f() is calculated at the midpoint of the interval instead"
   ]
  },
  {
   "cell_type": "code",
   "execution_count": 3,
   "id": "6a1899dc",
   "metadata": {},
   "outputs": [
    {
     "name": "stdout",
     "output_type": "stream",
     "text": [
      "0.27180581971880236\n"
     ]
    }
   ],
   "source": [
    "## Modified Euler Method ##\n",
    "\n",
    "h = 0.01 # Step Size\n",
    "\n",
    "# initializing the variables according to the boundary value\n",
    "x = 0\n",
    "y = 0.1\n",
    "y_next = 0\n",
    "# We want to find y for when x = 1\n",
    "\n",
    "while (x<1):\n",
    "    y_next = y + h*f(x+0.5*h, y+0.5*h*f(x, y))\n",
    "    x = x + h\n",
    "    y = y_next\n",
    "print(y_next)"
   ]
  },
  {
   "cell_type": "markdown",
   "id": "12ae066c",
   "metadata": {},
   "source": [
    "## Improved Euler Method##\n",
    "\n",
    "Mean of the derivatives is taken for the derivative at the initial point and at the final point of the interval"
   ]
  },
  {
   "cell_type": "code",
   "execution_count": 4,
   "id": "668c68df",
   "metadata": {},
   "outputs": [
    {
     "name": "stdout",
     "output_type": "stream",
     "text": [
      "0.2718190959449029\n"
     ]
    }
   ],
   "source": [
    "## Improved Euler Method ##\n",
    "\n",
    "h = 0.01 # Step Size\n",
    "\n",
    "# initializing the variables according to the boundary value\n",
    "x = 0\n",
    "y = 0.1\n",
    "y_next = 0\n",
    "# We want to find y for when x = 1\n",
    "\n",
    "while (x<1):\n",
    "    y_next = y + 0.5*h*(f(x, y) + f(x+h, y+h*f(x,y)))\n",
    "    x = x + h\n",
    "    y = y_next\n",
    "print(y_next)"
   ]
  },
  {
   "cell_type": "code",
   "execution_count": null,
   "id": "15de367f",
   "metadata": {},
   "outputs": [],
   "source": []
  }
 ],
 "metadata": {
  "kernelspec": {
   "display_name": "Python 3 (ipykernel)",
   "language": "python",
   "name": "python3"
  },
  "language_info": {
   "codemirror_mode": {
    "name": "ipython",
    "version": 3
   },
   "file_extension": ".py",
   "mimetype": "text/x-python",
   "name": "python",
   "nbconvert_exporter": "python",
   "pygments_lexer": "ipython3",
   "version": "3.8.13"
  }
 },
 "nbformat": 4,
 "nbformat_minor": 5
}
