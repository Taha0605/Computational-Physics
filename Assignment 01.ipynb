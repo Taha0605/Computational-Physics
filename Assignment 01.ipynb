{
 "cells": [
  {
   "cell_type": "markdown",
   "id": "4e312ebf",
   "metadata": {},
   "source": [
    "## Question 5 ##\n",
    "The Lorenz model is used to study the climate change and is given by<br>\n",
    "x' = a(y − x)<br>\n",
    "y' = −xz + bx − y<br>\n",
    "z' = xy − cz<br>\n",
    "where a = 10, c = 8/3 are some constants. b denotes the temperature difference between the top and bottom\n",
    "surfaces of the fluid. Solve the equations with RK-4 method with a = 10, c = 8/3 and b = 5, 10, 25. Plot the\n",
    "following:<br>\n",
    "(a) z as a function of time for b = 5, 10, 25 for x = 1, y = z = 0. You can move from t = 0s to t = 50s. Is\n",
    "there any stricking difference at b = 25?<br>\n",
    "(b) The trajectory of Lorenz model (for b = 25) in x − z plane with initial condition as x = 1, y = z = 0.<br>\n",
    "(c) The trajectory in yz plane when x = 0 with b = 25.<br>\n",
    "(d) The trajectory in xz plane when y = 0 with b = 25<br>"
   ]
  },
  {
   "cell_type": "code",
   "execution_count": 11,
   "id": "0b725c0e",
   "metadata": {},
   "outputs": [],
   "source": [
    "a = 10\n",
    "b_range = [5, 10, 25]\n",
    "c = 8/3"
   ]
  },
  {
   "cell_type": "code",
   "execution_count": 8,
   "id": "8cc00b59",
   "metadata": {},
   "outputs": [],
   "source": [
    "## Function definitions ##\n",
    "def fx(x, y):\n",
    "    v = a*(y-x)\n",
    "    return v"
   ]
  },
  {
   "cell_type": "code",
   "execution_count": 9,
   "id": "d4cf9ffd",
   "metadata": {},
   "outputs": [],
   "source": [
    "def fy(x, y, z, b):\n",
    "    v = -1*x*z + b*x - y\n",
    "    return v"
   ]
  },
  {
   "cell_type": "code",
   "execution_count": 10,
   "id": "d2aec754",
   "metadata": {},
   "outputs": [],
   "source": [
    "def fz(x, y, z):\n",
    "    v = x*y - c*z\n",
    "    return v"
   ]
  },
  {
   "cell_type": "code",
   "execution_count": null,
   "id": "0379c50c",
   "metadata": {},
   "outputs": [],
   "source": []
  }
 ],
 "metadata": {
  "kernelspec": {
   "display_name": "Python [conda env:root] *",
   "language": "python",
   "name": "conda-root-py"
  },
  "language_info": {
   "codemirror_mode": {
    "name": "ipython",
    "version": 3
   },
   "file_extension": ".py",
   "mimetype": "text/x-python",
   "name": "python",
   "nbconvert_exporter": "python",
   "pygments_lexer": "ipython3",
   "version": "3.8.13"
  }
 },
 "nbformat": 4,
 "nbformat_minor": 5
}
