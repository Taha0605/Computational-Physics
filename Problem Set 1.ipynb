{
 "cells": [
  {
   "cell_type": "markdown",
   "id": "8ba3272e",
   "metadata": {},
   "source": [
    "## Question 1 ##"
   ]
  },
  {
   "cell_type": "markdown",
   "id": "772f99e8",
   "metadata": {},
   "source": [
    "Take the coordinates to be found as (x,y,z) and plug those into the respective distance formulae until you get something of the form:\n",
    "x²+y²+z²=value\n",
    "and we will obtain 2 more equations like this. We can then replace y and z with their expressions in x and solve for x by finding the roots of that function."
   ]
  },
  {
   "cell_type": "markdown",
   "id": "01af2d32",
   "metadata": {},
   "source": [
    "## Question 2"
   ]
  },
  {
   "cell_type": "markdown",
   "id": "a79b7b4b",
   "metadata": {},
   "source": [
    "In the equation E-esinE = M, bring M to the other side of the equation and find the roots of the equation against E using the Newton-Raphson Method."
   ]
  }
 ],
 "metadata": {
  "kernelspec": {
   "display_name": "Python 3 (ipykernel)",
   "language": "python",
   "name": "python3"
  },
  "language_info": {
   "codemirror_mode": {
    "name": "ipython",
    "version": 3
   },
   "file_extension": ".py",
   "mimetype": "text/x-python",
   "name": "python",
   "nbconvert_exporter": "python",
   "pygments_lexer": "ipython3",
   "version": "3.8.13"
  }
 },
 "nbformat": 4,
 "nbformat_minor": 5
}
