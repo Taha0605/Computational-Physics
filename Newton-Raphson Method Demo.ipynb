{
 "cells": [
  {
   "cell_type": "markdown",
   "id": "5d6360a5",
   "metadata": {},
   "source": [
    "# Newton-Raphson Method"
   ]
  },
  {
   "cell_type": "code",
   "execution_count": 4,
   "id": "97636bb1",
   "metadata": {},
   "outputs": [],
   "source": [
    "tolerance = 0.00001 ## this means 20%\n",
    "error = 9999"
   ]
  },
  {
   "cell_type": "code",
   "execution_count": 5,
   "id": "6796ad21",
   "metadata": {},
   "outputs": [],
   "source": [
    "def f(x):\n",
    "    y = x**3-0.165*(x**2) + 3.993*(10**-4)\n",
    "    \n",
    "    return y"
   ]
  },
  {
   "cell_type": "code",
   "execution_count": 6,
   "id": "034ad9b2",
   "metadata": {},
   "outputs": [],
   "source": [
    "def f_derived(x):\n",
    "    y = 3*x**2 - 0.33*x\n",
    "    \n",
    "    return y"
   ]
  },
  {
   "cell_type": "code",
   "execution_count": 7,
   "id": "394a920f",
   "metadata": {},
   "outputs": [],
   "source": [
    "def err_calc(x1, x):\n",
    "    error = abs(x1-x)/x\n",
    "    return error"
   ]
  },
  {
   "cell_type": "code",
   "execution_count": 8,
   "id": "f1b60dfe",
   "metadata": {},
   "outputs": [
    {
     "name": "stdout",
     "output_type": "stream",
     "text": [
      "Enter your initial guess:: 0.165\n"
     ]
    }
   ],
   "source": [
    "x_i = float(input(\"Enter your initial guess:: \"))\n",
    "x_i1 = 0\n",
    "iterations = 0\n",
    "\n",
    "while(error > tolerance):\n",
    "    x_i1 = x_i - f(x_i)/f_derived(x_i)\n",
    "    error = err_calc(x_i1, x_i)\n",
    "    x_i = x_i1\n",
    "    iterations+=1"
   ]
  },
  {
   "cell_type": "code",
   "execution_count": 12,
   "id": "3c9f6229",
   "metadata": {},
   "outputs": [
    {
     "name": "stdout",
     "output_type": "stream",
     "text": [
      "Value of the root found:: 0.14635950471267428\n"
     ]
    }
   ],
   "source": [
    "print(\"Value of the root found:: \" + str(x_i1))"
   ]
  },
  {
   "cell_type": "code",
   "execution_count": 10,
   "id": "87894beb",
   "metadata": {},
   "outputs": [
    {
     "name": "stdout",
     "output_type": "stream",
     "text": [
      "Number of iterations:: 4\n"
     ]
    }
   ],
   "source": [
    "print(\"Number of iterations:: \" + str(iterations))"
   ]
  },
  {
   "cell_type": "code",
   "execution_count": 11,
   "id": "eea7d20e",
   "metadata": {},
   "outputs": [
    {
     "name": "stdout",
     "output_type": "stream",
     "text": [
      "Value of the function at found root2.864375403532904e-13\n"
     ]
    }
   ],
   "source": [
    "print(\"Value of the function at found root\" + str(f(x_i1)))"
   ]
  },
  {
   "cell_type": "markdown",
   "id": "82e69698",
   "metadata": {},
   "source": [
    "<br>\n",
    "\n",
    "# Bisection Method"
   ]
  },
  {
   "cell_type": "code",
   "execution_count": 25,
   "id": "d8cf918b",
   "metadata": {},
   "outputs": [
    {
     "name": "stdout",
     "output_type": "stream",
     "text": [
      "0.8353789296816199\n",
      "Root from bisection method:: 0.9999923706054688\n"
     ]
    }
   ],
   "source": [
    "error = 9999\n",
    "## intervals ##\n",
    "a = 0\n",
    "b = 1\n",
    "\n",
    "x_mid = float((a+b)/2)\n",
    "\n",
    "while error > tolerance:\n",
    "    \n",
    "    x_mid = (a+b)*0.5\n",
    "    \n",
    "    if (f(a)*f(x_mid)) < 0:\n",
    "        b = x_mid\n",
    "    else:\n",
    "        a = x_mid\n",
    "    error = err_calc(a, b)\n",
    "\n",
    "print(f(x_mid))\n",
    "print(\"Root from bisection method:: \" + str(x_mid))"
   ]
  },
  {
   "cell_type": "markdown",
   "id": "9e1fe88b",
   "metadata": {},
   "source": [
    "<br>\n",
    "\n",
    "# Secant Method"
   ]
  }
 ],
 "metadata": {
  "kernelspec": {
   "display_name": "Python 3 (ipykernel)",
   "language": "python",
   "name": "python3"
  },
  "language_info": {
   "codemirror_mode": {
    "name": "ipython",
    "version": 3
   },
   "file_extension": ".py",
   "mimetype": "text/x-python",
   "name": "python",
   "nbconvert_exporter": "python",
   "pygments_lexer": "ipython3",
   "version": "3.8.13"
  }
 },
 "nbformat": 4,
 "nbformat_minor": 5
}
